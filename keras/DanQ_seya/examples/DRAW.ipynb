{
 "cells": [
  {
   "cell_type": "markdown",
   "metadata": {},
   "source": [
    "# DRAW\n",
    "\n",
    "This code uses `seya.layers.draw`. It has been tested on the binary MNIST data succesfully.\n",
    "Here we also show how to train the model on Cifar10, although we didn't have patience to \n",
    "wait for the model to converge. If you used this code on any dataset, other than MNIST, with success\n",
    "please let us (post an issue or send us a message on twitter/edersantana).\n",
    "\n",
    "This was originally tested under:  \n",
    "`pip install git+https://github.com/fchollet/keras.git@ef43a271eeb25a59383be66a7079f77d226e0c3b`"
   ]
  },
  {
   "cell_type": "code",
   "execution_count": 26,
   "metadata": {
    "collapsed": false
   },
   "outputs": [],
   "source": [
    "%matplotlib inline\n",
    "from __future__ import absolute_import\n",
    "from __future__ import print_function\n",
    "import logging\n",
    "import numpy as np\n",
    "import matplotlib.pyplot as plt\n",
    "\n",
    "from theano import tensor, function\n",
    "\n",
    "#from keras.datasets import mnist # this is not binary MNIST though\n",
    "from keras.datasets import cifar10\n",
    "\n",
    "# Binary MNIST use github.com/mila-udem/fuel\n",
    "#from fuel.datasets.binarized_mnist import BinarizedMNIST\n",
    "\n",
    "from keras.models import Graph, Sequential\n",
    "from keras.layers.core import Dense, Dropout, Activation, Flatten\n",
    "from keras.layers.convolutional import Convolution2D, MaxPooling2D\n",
    "from keras.utils import np_utils, generic_utils\n",
    "from keras.optimizers import Adam\n",
    "from keras.initializations import normal\n",
    "\n",
    "\n",
    "from seya.layers.draw import DRAW\n",
    "from seya.layers.draw2 import DRAW2\n",
    "from seya.layers.base import Lambda\n",
    "from agnez import img_grid\n",
    "\n",
    "from IPython import display"
   ]
  },
  {
   "cell_type": "code",
   "execution_count": 3,
   "metadata": {
    "collapsed": false
   },
   "outputs": [],
   "source": [
    "# In case you close your notebook while training,\n",
    "# this makes sure you at least still get some logging\n",
    "logger = logging.getLogger()\n",
    "hdlr = logging.FileHandler('./draw.log')\n",
    "formatter = logging.Formatter('%(asctime)s %(levelname)s %(message)s')\n",
    "hdlr.setFormatter(formatter)\n",
    "logger.addHandler(hdlr) \n",
    "logger.setLevel(logging.INFO)"
   ]
  },
  {
   "cell_type": "code",
   "execution_count": 17,
   "metadata": {
    "collapsed": false
   },
   "outputs": [
    {
     "name": "stdout",
     "output_type": "stream",
     "text": [
      "X_train shape: (50000, 3, 32, 32)\n",
      "50000 train samples\n"
     ]
    }
   ],
   "source": [
    "batch_size = 100\n",
    "nb_epoch = 100\n",
    "n_steps = 64\n",
    "\n",
    "h_dim = 256*2\n",
    "z_dim = 200\n",
    "N_enc = 5\n",
    "N_dec = 5\n",
    "input_shape = (3, 32, 32)\n",
    "\n",
    "# Values for MNIST\n",
    "# h_dim = 256\n",
    "# z_dim = 100\n",
    "# N_enc = 2\n",
    "# N_dec = 5\n",
    "# input_shape = (1, 28, 28)\n",
    "\n",
    "(X_train, y_train), (X_test, y_test) = cifar10.load_data()\n",
    "X_train = X_train / 255. # range [0, 1]\n",
    "# Load Binary MNIST\n",
    "#data_train = BinarizedMNIST(which_sets=['train'], sources=['features'])\n",
    "#data_test = BinarizedMNIST(which_sets=['test'], sources=['features'])\n",
    "#X_train = data_train.get_data(request=slice(0, 50000))[0].astype('float32')\n",
    "#X_test = data_test.get_data(request=slice(0, 100))[0].astype('float32')\n",
    "\n",
    "print('X_train shape:', X_train.shape)\n",
    "print(X_train.shape[0], 'train samples')"
   ]
  },
  {
   "cell_type": "code",
   "execution_count": 18,
   "metadata": {
    "collapsed": false
   },
   "outputs": [],
   "source": [
    "def myinit(shape):\n",
    "    return normal(shape, scale=.01)\n",
    "\n",
    "draw = DRAW(h_dim=h_dim, z_dim=z_dim, input_shape=input_shape, N_enc=N_enc, N_dec=N_dec,\n",
    "            return_sequences=True, inner_rnn='gru', init=myinit, inner_init=myinit)"
   ]
  },
  {
   "cell_type": "markdown",
   "metadata": {},
   "source": [
    "# Train model"
   ]
  },
  {
   "cell_type": "code",
   "execution_count": 20,
   "metadata": {
    "collapsed": true
   },
   "outputs": [],
   "source": [
    "# Use this cost function for MNIST\n",
    "def bce(y_true, y_pred):\n",
    "    epsilon = 1e-7\n",
    "    y_pred = tensor.clip(y_pred, epsilon, 1.0 - epsilon)\n",
    "    val = tensor.nnet.binary_crossentropy(y_pred, y_true).sum(axis=-1) #.mean()\n",
    "    #val = BinaryCrossEntropy().apply(y_true, y_pred)\n",
    "    return val\n",
    "\n",
    "def renorm_mse(y_true, y_pred):\n",
    "    rmse = (0.5 * (y_true-y_pred)**2).sum(axis=-1)\n",
    "    return rmse\n"
   ]
  },
  {
   "cell_type": "code",
   "execution_count": 29,
   "metadata": {
    "collapsed": false
   },
   "outputs": [
    {
     "name": "stdout",
     "output_type": "stream",
     "text": [
      "[<seya.regularizers.SimpleCost object at 0x7f73e26fa510>]\n"
     ]
    }
   ],
   "source": [
    "def myreshape(x):\n",
    "    y = x[0][:, -1, :, :, :]\n",
    "    z = y.reshape((y.shape[0], np.prod(input_shape)))\n",
    "    return tensor.nnet.sigmoid(z)  # this is for MNIST\n",
    "    # return z\n",
    "\n",
    "model = Graph()\n",
    "\n",
    "model.add_input(name='input', ndim=4)\n",
    "model.add_input(name='noise', ndim=3)\n",
    "model.add_node(draw, name='draw', inputs=['input', 'noise'], merge_mode='join')\n",
    "model.add_node(Lambda(lambda x: myreshape(x)),\n",
    "               name='out', input='draw', create_output=True)\n",
    "\n",
    "# model.get_output()  # make sure the regularizer is generated\n",
    "# model.regularizers += draw.regularizers  # add reparametrization trick regularizer to the list\n",
    "print(model.regularizers)"
   ]
  },
  {
   "cell_type": "code",
   "execution_count": 30,
   "metadata": {
    "collapsed": false
   },
   "outputs": [],
   "source": [
    "adam = Adam(lr=3e-4, clipnorm=10)\n",
    "model.compile(loss={'out': bce}, optimizer=adam)"
   ]
  },
  {
   "cell_type": "code",
   "execution_count": 31,
   "metadata": {
    "collapsed": false
   },
   "outputs": [],
   "source": [
    "X = model.get_input()\n",
    "Y = model.nodes['draw'].get_output()\n",
    "do_draw = function(X.values(), tensor.nnet.sigmoid(Y[0]), allow_input_downcast=True)\n",
    "\n",
    "get_kl = function(X.values(), Y[1], allow_input_downcast=True)"
   ]
  },
  {
   "cell_type": "code",
   "execution_count": null,
   "metadata": {
    "collapsed": true
   },
   "outputs": [],
   "source": [
    "import os\n",
    "subdir = 'pics'\n",
    "def savegifs(X_train):\n",
    "    # adapted from github.com/jbornschein/draw\n",
    "    samples = do_draw(X_train[:100], np.zeros((100, n_steps, z_dim)))\n",
    "    for i in xrange(n_steps-1):\n",
    "        fig = plt.figure()\n",
    "        img = plt.imshow(img_grid(samples[:,i,:,:,:], (10, 10)))\n",
    "        plt.axis('off')\n",
    "        plt.savefig(\"{0}/time-{1:03d}.png\".format(subdir, i))\n",
    "\n",
    "        #with open(\"centers.pkl\", \"wb\") as f:\n",
    "        #    pikle.dump(f, (center_y, center_x, delta))\n",
    "    os.system(\"convert -delay 5 {0}/time-*.png -delay 300 {0}/sample.png {0}/sequence.gif\".format(subdir))"
   ]
  },
  {
   "cell_type": "code",
   "execution_count": null,
   "metadata": {
    "collapsed": false
   },
   "outputs": [
    {
     "name": "stdout",
     "output_type": "stream",
     "text": [
      "----------------------------------------\n",
      "Epoch 0\n",
      "----------------------------------------\n",
      "Training...\n",
      "  100/50000 [..............................] - ETA: 31399s - train loss: 2364.4294"
     ]
    }
   ],
   "source": [
    "for e in range(nb_epoch):\n",
    "    print('-'*40)\n",
    "    print('Epoch', e)\n",
    "    print('-'*40)\n",
    "    print(\"Training...\")\n",
    "    # batch train with realtime data augmentation\n",
    "    progbar = generic_utils.Progbar(X_train.shape[0])\n",
    "    for i in range(X_train.shape[0]/batch_size):\n",
    "        s = i * batch_size\n",
    "        l = (i+1) * batch_size\n",
    "        X_batch = X_train[s:l]\n",
    "        eps = np.random.normal(0, 1, (X_batch.shape[0], n_steps, z_dim))\n",
    "        loss = model.train_on_batch({'input': X_batch,\n",
    "                                     'noise': eps.astype('float32'),\n",
    "                                     'out': X_batch.reshape(batch_size, -1)})\n",
    "        progbar.add(X_batch.shape[0], values=[(\"train loss\", loss)])\n",
    "    \n",
    "    kl_train = get_kl(X_batch, eps)\n",
    "\n",
    "    # No testing, we only want to see the DRAWs :D\n",
    "    #print(\"\")\n",
    "    #print(\"Testing...\")\n",
    "    # test time!\n",
    "    #progbar = generic_utils.Progbar(X_test.shape[0])\n",
    "    #for i in range(X_test.shape[0]/batch_size):\n",
    "    #    s = i * batch_size\n",
    "    #    l = (i+1) * batch_size\n",
    "    #    X_batch = X_test[s:l]\n",
    "    #    eps = np.random.normal(0, 1, (X_batch.shape[0], n_steps+1, z_dim))\n",
    "    #    score = model.test_on_batch({'input': X_batch,\n",
    "    #                                 'noise': eps,\n",
    "    #                                 'out': X_batch.reshape(batch_size, -1)})\n",
    "    #    progbar.add(X_batch.shape[0], values=[(\"test loss\", score)])\n",
    "        \n",
    "    \n",
    "    logging.info('epoch: {0} | train-kl: {1}'.format(e, kl_train))\n",
    "    \n",
    "    #rec = do_draw(X_batch[:100], eps[:100])\n",
    "    #rec = rec.reshape(rec.shape[0], rec.shape[1], -1)\n",
    "    display.clear_output(wait=True)\n",
    "    #vg = video_grid(rec.transpose(1, 0, 2), ani_path='draw.gif', rescale=True)\n",
    "    #display.display(vg)\n",
    "    savegifs(X_train[:100])"
   ]
  },
  {
   "cell_type": "markdown",
   "metadata": {},
   "source": [
    "<img src='main_img.gif'>\n",
    "\n",
    "The figure above was generated with a model only a few epochs old."
   ]
  }
 ],
 "metadata": {
  "kernelspec": {
   "display_name": "Python 2",
   "language": "python",
   "name": "python2"
  },
  "language_info": {
   "codemirror_mode": {
    "name": "ipython",
    "version": 2
   },
   "file_extension": ".py",
   "mimetype": "text/x-python",
   "name": "python",
   "nbconvert_exporter": "python",
   "pygments_lexer": "ipython2",
   "version": "2.7.10"
  }
 },
 "nbformat": 4,
 "nbformat_minor": 0
}
